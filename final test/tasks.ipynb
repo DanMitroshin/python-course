{
 "cells": [
  {
   "cell_type": "markdown",
   "metadata": {},
   "source": [
    "### Task 1 (0.3)\n",
    "Напечатайте символы следующим образом:"
   ]
  },
  {
   "cell_type": "markdown",
   "metadata": {},
   "source": [
    "#### V1\n",
    "<i>yz wx uv st qr op mn kl ij gh ef cd ab</i>"
   ]
  },
  {
   "cell_type": "markdown",
   "metadata": {},
   "source": [
    "#### V2\n",
    "<i>Mn Lo Kp Jq Ir Hs Gt Fu Ev Dw Cx By Az</i>"
   ]
  },
  {
   "cell_type": "markdown",
   "metadata": {},
   "source": [
    "#### V3\n",
    "<i>edcba jihgf onmlk tsrqp yxwvu z</i>"
   ]
  },
  {
   "cell_type": "markdown",
   "metadata": {},
   "source": [
    "Поясните свое решение."
   ]
  },
  {
   "cell_type": "markdown",
   "metadata": {},
   "source": [
    "### Task 2 (0.5)\n",
    "Обмен сообщениями должен быть очередным (не посылать более 2 сообщения подряд)"
   ]
  },
  {
   "cell_type": "markdown",
   "metadata": {},
   "source": [
    "#### V1\n",
    "Сделайте имитацию обмена случайными ругательствами с помощью генераторов."
   ]
  },
  {
   "cell_type": "markdown",
   "metadata": {},
   "source": [
    "#### V2\n",
    "Сделайте имитацию обмена случайными ругательствами между потоками."
   ]
  },
  {
   "cell_type": "markdown",
   "metadata": {},
   "source": [
    "#### V3\n",
    "Сделайте имитацию обмена случайными ругательствами между процессами."
   ]
  },
  {
   "cell_type": "markdown",
   "metadata": {},
   "source": [
    "### Task 3 (0.7)\n",
    "Создайте метакласс, удовлетворяющий следующему функционалу"
   ]
  },
  {
   "cell_type": "markdown",
   "metadata": {},
   "source": [
    "#### V1\n",
    "Печатает на экран случайное ругательство, когда вызывается какая либо функция класса или экземпляра."
   ]
  },
  {
   "cell_type": "markdown",
   "metadata": {},
   "source": [
    "#### V2\n",
    "Печатает на экран случайное ругательство, когда происходит обращение к какому либо атрибуту класса или экземпляра."
   ]
  },
  {
   "cell_type": "markdown",
   "metadata": {},
   "source": [
    "#### V3\n",
    "Заменяет все имена атрибутов и функций на обратные (sum->mus) при создании."
   ]
  }
 ],
 "metadata": {
  "kernelspec": {
   "display_name": "Python 3",
   "language": "python",
   "name": "python3"
  },
  "language_info": {
   "codemirror_mode": {
    "name": "ipython",
    "version": 3
   },
   "file_extension": ".py",
   "mimetype": "text/x-python",
   "name": "python",
   "nbconvert_exporter": "python",
   "pygments_lexer": "ipython3",
   "version": "3.6.0"
  }
 },
 "nbformat": 4,
 "nbformat_minor": 2
}
